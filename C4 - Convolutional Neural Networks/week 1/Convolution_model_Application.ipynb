{
 "cells": [
  {
   "cell_type": "markdown",
   "metadata": {},
   "source": [
    "# Convolutional Neural Networks: Application\n",
    "\n",
    "Welcome to Course 4's second assignment! In this notebook, you will:\n",
    "\n",
    "- Create a mood classifer using the TF Keras Sequential API\n",
    "- Build a ConvNet to identify sign language digits using the TF Keras Functional API\n",
    "\n",
    "**After this assignment you will be able to:**\n",
    "\n",
    "- Build and train a ConvNet in TensorFlow for a __binary__ classification problem\n",
    "- Build and train a ConvNet in TensorFlow for a __multiclass__ classification problem\n",
    "- Explain different use cases for the Sequential and Functional APIs\n",
    "\n",
    "To complete this assignment, you should already be familiar with TensorFlow. If you are not, please refer back to the **TensorFlow Tutorial** of the third week of Course 2 (\"**Improving deep neural networks**\").\n",
    "\n",
    "## Important Note on Submission to the AutoGrader\n",
    "\n",
    "Before submitting your assignment to the AutoGrader, please make sure you are not doing the following:\n",
    "\n",
    "1. You have not added any _extra_ `print` statement(s) in the assignment.\n",
    "2. You have not added any _extra_ code cell(s) in the assignment.\n",
    "3. You have not changed any of the function parameters.\n",
    "4. You are not using any global variables inside your graded exercises. Unless specifically instructed to do so, please refrain from it and use the local variables instead.\n",
    "5. You are not changing the assignment code where it is not required, like creating _extra_ variables.\n",
    "\n",
    "If you do any of the following, you will get something like, `Grader not found` (or similarly unexpected) error upon submitting your assignment. Before asking for help/debugging the errors in your assignment, check for these first. If this is the case, and you don't remember the changes you have made, you can get a fresh copy of the assignment by following these [instructions](https://www.coursera.org/learn/convolutional-neural-networks/supplement/DS4yP/h-ow-to-refresh-your-workspace)."
   ]
  },
  {
   "cell_type": "markdown",
   "metadata": {},
   "source": [
    "## Table of Contents\n",
    "\n",
    "- [1 - Packages](#1)\n",
    "    - [1.1 - Load the Data and Split the Data into Train/Test Sets](#1-1)\n",
    "- [2 - Layers in TF Keras](#2)\n",
    "- [3 - The Sequential API](#3)\n",
    "    - [3.1 - Create the Sequential Model](#3-1)\n",
    "        - [Exercise 1 - happyModel](#ex-1)\n",
    "    - [3.2 - Train and Evaluate the Model](#3-2)\n",
    "- [4 - The Functional API](#4)\n",
    "    - [4.1 - Load the SIGNS Dataset](#4-1)\n",
    "    - [4.2 - Split the Data into Train/Test Sets](#4-2)\n",
    "    - [4.3 - Forward Propagation](#4-3)\n",
    "        - [Exercise 2 - convolutional_model](#ex-2)\n",
    "    - [4.4 - Train the Model](#4-4)\n",
    "- [5 - History Object](#5)\n",
    "- [6 - Bibliography](#6)"
   ]
  },
  {
   "cell_type": "markdown",
   "metadata": {},
   "source": [
    "<a name='1'></a>\n",
    "## 1 - Packages\n",
    "\n",
    "As usual, begin by loading in the packages."
   ]
  },
  {
   "cell_type": "code",
   "execution_count": 1,
   "metadata": {},
   "outputs": [],
   "source": [
    "import math\n",
    "import numpy as np\n",
    "import h5py\n",
    "import matplotlib.pyplot as plt\n",
    "from matplotlib.pyplot import imread\n",
    "import scipy\n",
    "from PIL import Image\n",
    "import pandas as pd\n",
    "import tensorflow as tf\n",
    "import tensorflow.keras.layers as tfl\n",
    "from tensorflow.python.framework import ops\n",
    "from cnn_utils import *\n",
    "from test_utils import summary, comparator\n",
    "\n",
    "%matplotlib inline\n",
    "np.random.seed(1)"
   ]
  },
  {
   "cell_type": "markdown",
   "metadata": {},
   "source": [
    "<a name='1-1'></a>\n",
    "### 1.1 - Load the Data and Split the Data into Train/Test Sets\n",
    "\n",
    "You'll be using the Happy House dataset for this part of the assignment, which contains images of peoples' faces. Your task will be to build a ConvNet that determines whether the people in the images are smiling or not -- because they only get to enter the house if they're smiling!  "
   ]
  },
  {
   "cell_type": "code",
   "execution_count": 2,
   "metadata": {},
   "outputs": [
    {
     "name": "stdout",
     "output_type": "stream",
     "text": [
      "number of training examples = 600\n",
      "number of test examples = 150\n",
      "X_train shape: (600, 64, 64, 3)\n",
      "Y_train shape: (600, 1)\n",
      "X_test shape: (150, 64, 64, 3)\n",
      "Y_test shape: (150, 1)\n"
     ]
    }
   ],
   "source": [
    "X_train_orig, Y_train_orig, X_test_orig, Y_test_orig, classes = load_happy_dataset()\n",
    "\n",
    "# Normalize image vectors\n",
    "X_train = X_train_orig/255.\n",
    "X_test = X_test_orig/255.\n",
    "\n",
    "# Reshape\n",
    "Y_train = Y_train_orig.T\n",
    "Y_test = Y_test_orig.T\n",
    "\n",
    "print (\"number of training examples = \" + str(X_train.shape[0]))\n",
    "print (\"number of test examples = \" + str(X_test.shape[0]))\n",
    "print (\"X_train shape: \" + str(X_train.shape))\n",
    "print (\"Y_train shape: \" + str(Y_train.shape))\n",
    "print (\"X_test shape: \" + str(X_test.shape))\n",
    "print (\"Y_test shape: \" + str(Y_test.shape))"
   ]
  },
  {
   "cell_type": "markdown",
   "metadata": {},
   "source": [
    "You can display the images contained in the dataset. Images are **64x64** pixels in RGB format (3 channels)."
   ]
  },
  {
   "cell_type": "code",
   "execution_count": 3,
   "metadata": {},
   "outputs": [
    {
     "data": {
      "image/png": "[encoded data removed]",
      "text/plain": [
       "<Figure size 432x288 with 1 Axes>"
      ]
     },
     "metadata": {
      "needs_background": "light"
     },
     "output_type": "display_data"
    }
   ],
   "source": [
    "index = 124\n",
    "plt.imshow(X_train_orig[index]) #display sample training image\n",
    "plt.show()"
   ]
  },
  {
   "cell_type": "markdown",
   "metadata": {},
   "source": [
    "<a name='2'></a>\n",
    "## 2 - Layers in TF Keras \n",
    "\n",
    "In the previous assignment, you created layers manually in numpy. In TF Keras, you don't have to write code directly to create layers. Rather, TF Keras has pre-defined layers you can use. \n",
    "\n",
    "When you create a layer in TF Keras, you are creating a function that takes some input and transforms it into an output you can reuse later. Nice and easy! "
   ]
  },
  {
   "cell_type": "markdown",
   "metadata": {},
   "source": [
    "<a name='3'></a>\n",
    "## 3 - The Sequential API\n",
    "\n",
    "In the previous assignment, you built helper functions using `numpy` to understand the mechanics behind convolutional neural networks. Most practical applications of deep learning today are built using programming frameworks, which have many built-in functions you can simply call. Keras is a high-level abstraction built on top of TensorFlow, which allows for even more simplified and optimized model creation and training. \n",
    "\n",
    "For the first part of this assignment, you'll create a model using TF Keras' Sequential API, which allows you to build layer by layer, and is ideal for building models where each layer has **exactly one** input tensor and **one** output tensor. \n",
    "\n",
    "As you'll see, using the Sequential API is simple and straightforward, but is only appropriate for simpler, more straightforward tasks. Later in this notebook you'll spend some time building with a more flexible, powerful alternative: the Functional API. \n",
    " "
   ]
  },
  {
   "cell_type": "markdown",
   "metadata": {},
   "source": [
    "<a name='3-1'></a>\n",
    "### 3.1 - Create the Sequential Model\n",
    "\n",
    "As mentioned earlier, the TensorFlow Keras Sequential API can be used to build simple models with layer operations that proceed in a sequential order. \n",
    "\n",
    "You can also add layers incrementally to a Sequential model with the `.add()` method, or remove them using the `.pop()` method, much like you would in a regular Python list.\n",
    "\n",
    "Actually, you can think of a Sequential model as behaving like a list of layers. Like Python lists, Sequential layers are ordered, and the order in which they are specified matters.  If your model is non-linear or contains layers with multiple inputs or outputs, a Sequential model wouldn't be the right choice!\n",
    "\n",
    "For any layer construction in Keras, you'll need to specify the input shape in advance. This is because in Keras, the shape of the weights is based on the shape of the inputs. The weights are only created when the model first sees some input data. Sequential models can be created by passing a list of layers to the Sequential constructor, like you will do in the next assignment.\n",
    "\n",
    "<a name='ex-1'></a>\n",
    "### Exercise 1 - happyModel\n",
    "\n",
    "Implement the `happyModel` function below to build the following model: `ZEROPAD2D -> CONV2D -> BATCHNORM -> RELU -> MAXPOOL -> FLATTEN -> DENSE`. Take help from [tf.keras.layers](https://www.tensorflow.org/api_docs/python/tf/keras/layers) \n",
    "\n",
    "Also, plug in the following parameters for all the steps:\n",
    "\n",
    " - [ZeroPadding2D](https://www.tensorflow.org/api_docs/python/tf/keras/layers/ZeroPadding2D): padding 3, input shape 64 x 64 x 3\n",
    " - [Conv2D](https://www.tensorflow.org/api_docs/python/tf/keras/layers/Conv2D): Use 32 7x7 filters, stride 1\n",
    " - [BatchNormalization](https://www.tensorflow.org/api_docs/python/tf/keras/layers/BatchNormalization): for axis 3\n",
    " - [ReLU](https://www.tensorflow.org/api_docs/python/tf/keras/layers/ReLU)\n",
    " - [MaxPool2D](https://www.tensorflow.org/api_docs/python/tf/keras/layers/MaxPool2D): Using default parameters\n",
    " - [Flatten](https://www.tensorflow.org/api_docs/python/tf/keras/layers/Flatten) the previous output.\n",
    " - Fully-connected ([Dense](https://www.tensorflow.org/api_docs/python/tf/keras/layers/Dense)) layer: Apply a fully connected layer with 1 neuron and a sigmoid activation. \n",
    " \n",
    " \n",
    " **Hint:**\n",
    " \n",
    " Use **tfl** as shorthand for **tensorflow.keras.layers**"
   ]
  },
  {
   "cell_type": "code",
   "execution_count": 16,
   "metadata": {
    "deletable": false,
    "nbgrader": {
     "cell_type": "code",
     "checksum": "95d28b191f257bdd5b70c7b8952559d5",
     "grade": false,
     "grade_id": "cell-0e56d3fc28b69aec",
     "locked": false,
     "schema_version": 3,
     "solution": true,
     "task": false
    }
   },
   "outputs": [],
   "source": [
    "# GRADED FUNCTION: happyModel\n",
    "\n",
    "def happyModel():\n",
    "    \"\"\"\n",
    "    Implements the forward propagation for the binary classification model:\n",
    "    ZEROPAD2D -> CONV2D -> BATCHNORM -> RELU -> MAXPOOL -> FLATTEN -> DENSE\n",
    "    \n",
    "    Note that for simplicity and grading purposes, you'll hard-code all the values\n",
    "    such as the stride and kernel (filter) sizes. \n",
    "    Normally, functions should take these values as function parameters.\n",
    "    \n",
    "    Arguments:\n",
    "    None\n",
    "\n",
    "    Returns:\n",
    "    model -- TF Keras model (object containing the information for the entire training process) \n",
    "    \"\"\"\n",
    "    model = tf.keras.Sequential([\n",
    "            \n",
    "            # YOUR CODE STARTS HERE\n",
    "            ## ZeroPadding2D with padding 3, input shape of 64 x 64 x 3\n",
    "            tf.keras.layers.ZeroPadding2D(padding=3, input_shape=(64,64,3)),\n",
    "            ## Conv2D with 32 7x7 filters and stride of 1\n",
    "            tf.keras.layers.Conv2D(32,(7,7), strides=(1, 1)),\n",
    "            ## BatchNormalization for axis 3\n",
    "            tf.keras.layers.BatchNormalization(axis=3),\n",
    "            ## ReLU\n",
    "            tf.keras.layers.ReLU(max_value=None, negative_slope=0.0, threshold=0.0),\n",
    "            ## Max Pooling 2D with default parameters\n",
    "              tf.keras.layers.MaxPooling2D((2, 2), name='max_pool0'),\n",
    "            ## Flatten layer\n",
    "            tf.keras.layers.Flatten(),\n",
    "            ## Dense layer with 1 unit for output & 'sigmoid' activation\n",
    "            tf.keras.layers.Dense(1, activation='sigmoid', name='fc')\n",
    "            \n",
    "            # YOUR CODE ENDS HERE\n",
    "        ])\n",
    "    \n",
    "    return model"
   ]
  },
  {
   "cell_type": "code",
   "execution_count": 17,
   "metadata": {
    "deletable": false,
    "editable": false,
    "nbgrader": {
     "cell_type": "code",
     "checksum": "8d3575c950e2e78149be2d05d671c80d",
     "grade": true,
     "grade_id": "cell-e3e1046e5c33d775",
     "locked": true,
     "points": 10,
     "schema_version": 3,
     "solution": false,
     "task": false
    }
   },
   "outputs": [
    {
     "name": "stdout",
     "output_type": "stream",
     "text": [
      "['ZeroPadding2D', (None, 70, 70, 3), 0, ((3, 3), (3, 3))]\n",
      "['Conv2D', (None, 64, 64, 32), 4736, 'valid', 'linear', 'GlorotUniform']\n",
      "['BatchNormalization', (None, 64, 64, 32), 128]\n",
      "['ReLU', (None, 64, 64, 32), 0]\n",
      "['MaxPooling2D', (None, 32, 32, 32), 0, (2, 2), (2, 2), 'valid']\n",
      "['Flatten', (None, 32768), 0]\n",
      "['Dense', (None, 1), 32769, 'sigmoid']\n",
      "\u001b[32mAll tests passed!\u001b[0m\n"
     ]
    }
   ],
   "source": [
    "happy_model = happyModel()\n",
    "# Print a summary for each layer\n",
    "for layer in summary(happy_model):\n",
    "    print(layer)\n",
    "    \n",
    "output = [['ZeroPadding2D', (None, 70, 70, 3), 0, ((3, 3), (3, 3))],\n",
    "            ['Conv2D', (None, 64, 64, 32), 4736, 'valid', 'linear', 'GlorotUniform'],\n",
    "            ['BatchNormalization', (None, 64, 64, 32), 128],\n",
    "            ['ReLU', (None, 64, 64, 32), 0],\n",
    "            ['MaxPooling2D', (None, 32, 32, 32), 0, (2, 2), (2, 2), 'valid'],\n",
    "            ['Flatten', (None, 32768), 0],\n",
    "            ['Dense', (None, 1), 32769, 'sigmoid']]\n",
    "    \n",
    "comparator(summary(happy_model), output)"
   ]
  },
  {
   "cell_type": "markdown",
   "metadata": {},
   "source": [
    "Now that your model is created, you can compile it for training with an optimizer and loss of your choice. When the string `accuracy` is specified as a metric, the type of accuracy used will be automatically converted based on the loss function used. This is one of the many optimizations built into TensorFlow that make your life easier! If you'd like to read more on how the compiler operates, check the docs [here](https://www.tensorflow.org/api_docs/python/tf/keras/Model#compile)."
   ]
  },
  {
   "cell_type": "code",
   "execution_count": 18,
   "metadata": {},
   "outputs": [],
   "source": [
    "happy_model.compile(optimizer='adam',\n",
    "                   loss='binary_crossentropy',\n",
    "                   metrics=['accuracy'])"
   ]
  },
  {
   "cell_type": "markdown",
   "metadata": {},
   "source": [
    "It's time to check your model's parameters with the `.summary()` method. This will display the types of layers you have, the shape of the outputs, and how many parameters are in each layer. "
   ]
  },
  {
   "cell_type": "code",
   "execution_count": 19,
   "metadata": {},
   "outputs": [
    {
     "name": "stdout",
     "output_type": "stream",
     "text": [
      "Model: \"sequential_1\"\n",
      "_________________________________________________________________\n",
      "Layer (type)                 Output Shape              Param #   \n",
      "=================================================================\n",
      "zero_padding2d_6 (ZeroPaddin (None, 70, 70, 3)         0         \n",
      "_________________________________________________________________\n",
      "conv2d_5 (Conv2D)            (None, 64, 64, 32)        4736      \n",
      "_________________________________________________________________\n",
      "batch_normalization_5 (Batch (None, 64, 64, 32)        128       \n",
      "_________________________________________________________________\n",
      "re_lu (ReLU)                 (None, 64, 64, 32)        0         \n",
      "_________________________________________________________________\n",
      "max_pool0 (MaxPooling2D)     (None, 32, 32, 32)        0         \n",
      "_________________________________________________________________\n",
      "flatten_1 (Flatten)          (None, 32768)             0         \n",
      "_________________________________________________________________\n",
      "fc (Dense)                   (None, 1)                 32769     \n",
      "=================================================================\n",
      "Total params: 37,633\n",
      "Trainable params: 37,569\n",
      "Non-trainable params: 64\n",
      "_________________________________________________________________\n"
     ]
    }
   ],
   "source": [
    "happy_model.summary()"
   ]
  },
  {
   "cell_type": "markdown",
   "metadata": {},
   "source": [
    "<a name='3-2'></a>\n",
    "### 3.2 - Train and Evaluate the Model\n",
    "\n",
    "After creating the model, compiling it with your choice of optimizer and loss function, and doing a sanity check on its contents, you are now ready to build! \n",
    "\n",
    "Simply call `.fit()` to train. That's it! No need for mini-batching, saving, or complex backpropagation computations. That's all been done for you, as you're using a TensorFlow dataset with the batches specified already. You do have the option to specify epoch number or minibatch size if you like (for example, in the case of an un-batched dataset)."
   ]
  },
  {
   "cell_type": "code",
   "execution_count": 20,
   "metadata": {},
   "outputs": [
    {
     "name": "stdout",
     "output_type": "stream",
     "text": [
      "Epoch 1/10\n",
      "38/38 [==============================] - 4s 102ms/step - loss: 0.8273 - accuracy: 0.7550\n",
      "Epoch 2/10\n",
      "38/38 [==============================] - 4s 95ms/step - loss: 0.2059 - accuracy: 0.9150\n",
      "Epoch 3/10\n",
      "38/38 [==============================] - 4s 100ms/step - loss: 0.1093 - accuracy: 0.9600\n",
      "Epoch 4/10\n",
      "38/38 [==============================] - 4s 100ms/step - loss: 0.1552 - accuracy: 0.9267\n",
      "Epoch 5/10\n",
      "38/38 [==============================] - 4s 98ms/step - loss: 0.1173 - accuracy: 0.9667\n",
      "Epoch 6/10\n",
      "38/38 [==============================] - 4s 97ms/step - loss: 0.3413 - accuracy: 0.9000\n",
      "Epoch 7/10\n",
      "38/38 [==============================] - 4s 97ms/step - loss: 0.3775 - accuracy: 0.8817\n",
      "Epoch 8/10\n",
      "38/38 [==============================] - 4s 95ms/step - loss: 0.1231 - accuracy: 0.9533\n",
      "Epoch 9/10\n",
      "38/38 [==============================] - 4s 100ms/step - loss: 0.0731 - accuracy: 0.9750\n",
      "Epoch 10/10\n",
      "38/38 [==============================] - 4s 95ms/step - loss: 0.1172 - accuracy: 0.9567\n"
     ]
    },
    {
     "data": {
      "text/plain": [
       "<tensorflow.python.keras.callbacks.History at 0x7f04742bead0>"
      ]
     },
     "execution_count": 20,
     "metadata": {},
     "output_type": "execute_result"
    }
   ],
   "source": [
    "happy_model.fit(X_train, Y_train, epochs=10, batch_size=16)"
   ]
  },
  {
   "cell_type": "markdown",
   "metadata": {},
   "source": [
    "After that completes, just use `.evaluate()` to evaluate against your test set. This function will print the value of the loss function and the performance metrics specified during the compilation of the model. In this case, the `binary_crossentropy` and the `accuracy` respectively."
   ]
  },
  {
   "cell_type": "code",
   "execution_count": 21,
   "metadata": {},
   "outputs": [
    {
     "name": "stdout",
     "output_type": "stream",
     "text": [
      "5/5 [==============================] - 0s 41ms/step - loss: 0.1252 - accuracy: 0.9533\n"
     ]
    },
    {
     "data": {
      "text/plain": [
       "[0.1252322793006897, 0.95333331823349]"
      ]
     },
     "execution_count": 21,
     "metadata": {},
     "output_type": "execute_result"
    }
   ],
   "source": [
    "happy_model.evaluate(X_test, Y_test)"
   ]
  },
  {
   "cell_type": "markdown",
   "metadata": {},
   "source": [
    "Easy, right? But what if you need to build a model with shared layers, branches, or multiple inputs and outputs? This is where Sequential, with its beautifully simple yet limited functionality, won't be able to help you. \n",
    "\n",
    "Next up: Enter the Functional API, your slightly more complex, highly flexible friend.  "
   ]
  },
  {
   "cell_type": "markdown",
   "metadata": {},
   "source": [
    "<a name='4'></a>\n",
    "## 4 - The Functional API"
   ]
  },
  {
   "cell_type": "markdown",
   "metadata": {},
   "source": [
    "Welcome to the second half of the assignment, where you'll use Keras' flexible [Functional API](https://www.tensorflow.org/guide/keras/functional) to build a ConvNet that can differentiate between 6 sign language digits. \n",
    "\n",
    "The Functional API can handle models with non-linear topology, shared layers, as well as layers with multiple inputs or outputs. Imagine that, where the Sequential API requires the model to move in a linear fashion through its layers, the Functional API allows much more flexibility. Where Sequential is a straight line, a Functional model is a graph, where the nodes of the layers can connect in many more ways than one. \n",
    "\n",
    "In the visual example below, the one possible direction of the movement Sequential model is shown in contrast to a skip connection, which is just one of the many ways a Functional model can be constructed. A skip connection, as you might have guessed, skips some layer in the network and feeds the output to a later layer in the network. Don't worry, you'll be spending more time with skip connections very soon! "
   ]
  },
  {
   "cell_type": "markdown",
   "metadata": {},
   "source": [
    "<img src=\"images/seq_vs_func.png\" style=\"width:350px;height:200px;\">"
   ]
  },
  {
   "cell_type": "markdown",
   "metadata": {},
   "source": [
    "<a name='4-1'></a>\n",
    "### 4.1 - Load the SIGNS Dataset\n",
    "\n",
    "As a reminder, the SIGNS dataset is a collection of 6 signs representing numbers from 0 to 5."
   ]
  },
  {
   "cell_type": "code",
   "execution_count": 22,
   "metadata": {},
   "outputs": [],
   "source": [
    "# Loading the data (signs)\n",
    "X_train_orig, Y_train_orig, X_test_orig, Y_test_orig, classes = load_signs_dataset()"
   ]
  },
  {
   "cell_type": "markdown",
   "metadata": {},
   "source": [
    "<img src=\"images/SIGNS.png\" style=\"width:800px;height:300px;\">\n",
    "\n",
    "The next cell will show you an example of a labelled image in the dataset. Feel free to change the value of `index` below and re-run to see different examples. "
   ]
  },
  {
   "cell_type": "code",
   "execution_count": 23,
   "metadata": {},
   "outputs": [
    {
     "name": "stdout",
     "output_type": "stream",
     "text": [
      "y = 4\n"
     ]
    },
    {
     "data": {
      "image/png": "[encoded data removed]",
      "text/plain": [
       "<Figure size 432x288 with 1 Axes>"
      ]
     },
     "metadata": {
      "needs_background": "light"
     },
     "output_type": "display_data"
    }
   ],
   "source": [
    "# Example of an image from the dataset\n",
    "index = 9\n",
    "plt.imshow(X_train_orig[index])\n",
    "print (\"y = \" + str(np.squeeze(Y_train_orig[:, index])))"
   ]
  },
  {
   "cell_type": "markdown",
   "metadata": {},
   "source": [
    "<a name='4-2'></a>\n",
    "### 4.2 - Split the Data into Train/Test Sets\n",
    "\n",
    "In Course 2, you built a fully-connected network for this dataset. But since this is an image dataset, it is more natural to apply a ConvNet to it.\n",
    "\n",
    "To get started, let's examine the shapes of your data. "
   ]
  },
  {
   "cell_type": "code",
   "execution_count": 24,
   "metadata": {},
   "outputs": [
    {
     "name": "stdout",
     "output_type": "stream",
     "text": [
      "number of training examples = 1080\n",
      "number of test examples = 120\n",
      "X_train shape: (1080, 64, 64, 3)\n",
      "Y_train shape: (1080, 6)\n",
      "X_test shape: (120, 64, 64, 3)\n",
      "Y_test shape: (120, 6)\n"
     ]
    }
   ],
   "source": [
    "X_train = X_train_orig/255.\n",
    "X_test = X_test_orig/255.\n",
    "Y_train = convert_to_one_hot(Y_train_orig, 6).T\n",
    "Y_test = convert_to_one_hot(Y_test_orig, 6).T\n",
    "print (\"number of training examples = \" + str(X_train.shape[0]))\n",
    "print (\"number of test examples = \" + str(X_test.shape[0]))\n",
    "print (\"X_train shape: \" + str(X_train.shape))\n",
    "print (\"Y_train shape: \" + str(Y_train.shape))\n",
    "print (\"X_test shape: \" + str(X_test.shape))\n",
    "print (\"Y_test shape: \" + str(Y_test.shape))"
   ]
  },
  {
   "cell_type": "markdown",
   "metadata": {},
   "source": [
    "<a name='4-3'></a>\n",
    "### 4.3 - Forward Propagation\n",
    "\n",
    "In TensorFlow, there are built-in functions that implement the convolution steps for you. By now, you should be familiar with how TensorFlow builds computational graphs. In the [Functional API](https://www.tensorflow.org/guide/keras/functional), you create a graph of layers. This is what allows such great flexibility.\n",
    "\n",
    "However, the following model could also be defined using the Sequential API since the information flow is on a single line. But don't deviate. What we want you to learn is to use the functional API.\n",
    "\n",
    "Begin building your graph of layers by creating an input node that functions as a callable object:\n",
    "\n",
    "- **input_img = tf.keras.Input(shape=input_shape):** \n",
    "\n",
    "Then, create a new node in the graph of layers by calling a layer on the `input_img` object: \n",
    "\n",
    "- **tf.keras.layers.Conv2D(filters= ... , kernel_size= ... , padding='same')(input_img):** Read the full documentation on [Conv2D](https://www.tensorflow.org/api_docs/python/tf/keras/layers/Conv2D).\n",
    "\n",
    "- **tf.keras.layers.MaxPool2D(pool_size=(f, f), strides=(s, s), padding='same'):** `MaxPool2D()` downsamples your input using a window of size (f, f) and strides of size (s, s) to carry out max pooling over each window.  For max pooling, you usually operate on a single example at a time and a single channel at a time. Read the full documentation on [MaxPool2D](https://www.tensorflow.org/api_docs/python/tf/keras/layers/MaxPool2D).\n",
    "\n",
    "- **tf.keras.layers.ReLU():** computes the elementwise ReLU of Z (which can be any shape). You can read the full documentation on [ReLU](https://www.tensorflow.org/api_docs/python/tf/keras/layers/ReLU).\n",
    "\n",
    "- **tf.keras.layers.Flatten()**: given a tensor \"P\", this function takes each training (or test) example in the batch and flattens it into a 1D vector.  \n",
    "\n",
    "    * If a tensor P has the shape (batch_size,h,w,c), it returns a flattened tensor with shape (batch_size, k), where $k=h \\times w \\times c$.  \"k\" equals the product of all the dimension sizes other than the first dimension.\n",
    "    \n",
    "    * For example, given a tensor with dimensions [100, 2, 3, 4], it flattens the tensor to be of shape [100, 24], where 24 = 2 * 3 * 4.  You can read the full documentation on [Flatten](https://www.tensorflow.org/api_docs/python/tf/keras/layers/Flatten).\n",
    "\n",
    "- **tf.keras.layers.Dense(units= ... , activation='softmax')(F):** given the flattened input F, it returns the output computed using a fully connected layer. You can read the full documentation on [Dense](https://www.tensorflow.org/api_docs/python/tf/keras/layers/Dense).\n",
    "\n",
    "In the last function above (`tf.keras.layers.Dense()`), the fully connected layer automatically initializes weights in the graph and keeps on training them as you train the model. Hence, you did not need to initialize those weights when initializing the parameters.\n",
    "\n",
    "Lastly, before creating the model, you'll need to define the output using the last of the function's compositions (in this example, a Dense layer): \n",
    "\n",
    "- **outputs = tf.keras.layers.Dense(units=6, activation='softmax')(F)**\n",
    "\n",
    "\n",
    "#### Window, kernel, filter, pool\n",
    "\n",
    "The words \"kernel\" and \"filter\" are used to refer to the same thing. The word \"filter\" accounts for the amount of \"kernels\" that will be used in a single convolution layer. \"Pool\" is the name of the operation that takes the max or average value of the kernels. \n",
    "\n",
    "This is why the parameter `pool_size` refers to `kernel_size`, and you use `(f,f)` to refer to the filter size. \n",
    "\n",
    "Pool size and kernel size refer to the same thing in different objects - They refer to the shape of the window where the operation takes place. "
   ]
  },
  {
   "cell_type": "markdown",
   "metadata": {},
   "source": [
    "<a name='ex-2'></a>\n",
    "### Exercise 2 - convolutional_model\n",
    "\n",
    "Implement the `convolutional_model` function below to build the following model: `CONV2D -> RELU -> MAXPOOL -> CONV2D -> RELU -> MAXPOOL -> FLATTEN -> DENSE`. Use the functions above! \n",
    "\n",
    "Also, plug in the following parameters for all the steps:\n",
    "\n",
    " - [Conv2D](https://www.tensorflow.org/api_docs/python/tf/keras/layers/Conv2D): Use 8 4 by 4 filters, stride 1, padding is \"SAME\"\n",
    " - [ReLU](https://www.tensorflow.org/api_docs/python/tf/keras/layers/ReLU)\n",
    " - [MaxPool2D](https://www.tensorflow.org/api_docs/python/tf/keras/layers/MaxPool2D): Use an 8 by 8 filter size and an 8 by 8 stride, padding is \"SAME\"\n",
    " - **Conv2D**: Use 16 2 by 2 filters, stride 1, padding is \"SAME\"\n",
    " - **ReLU**\n",
    " - **MaxPool2D**: Use a 4 by 4 filter size and a 4 by 4 stride, padding is \"SAME\"\n",
    " - [Flatten](https://www.tensorflow.org/api_docs/python/tf/keras/layers/Flatten) the previous output.\n",
    " - Fully-connected ([Dense](https://www.tensorflow.org/api_docs/python/tf/keras/layers/Dense)) layer: Apply a fully connected layer with 6 neurons and a softmax activation. "
   ]
  },
  {
   "cell_type": "code",
   "execution_count": 43,
   "metadata": {
    "deletable": false,
    "nbgrader": {
     "cell_type": "code",
     "checksum": "f58643806aa8380c96225fc8b4c5e7aa",
     "grade": false,
     "grade_id": "cell-dac51744a9e03f51",
     "locked": false,
     "schema_version": 3,
     "solution": true,
     "task": false
    }
   },
   "outputs": [],
   "source": [
    "# GRADED FUNCTION: convolutional_model\n",
    "\n",
    "def convolutional_model(input_shape):\n",
    "    \"\"\"\n",
    "    Implements the forward propagation for the model:\n",
    "    CONV2D -> RELU -> MAXPOOL -> CONV2D -> RELU -> MAXPOOL -> FLATTEN -> DENSE\n",
    "    Note that for simplicity and grading purposes, you'll hard-code some values\n",
    "    such as the stride and kernel (filter) sizes. \n",
    "    Normally, functions should take these values as function parameters.\n",
    "    Arguments:\n",
    "    input_img -- input dataset, of shape (input_shape)\n",
    "\n",
    "    Returns:\n",
    "    model -- TF Keras model (object containing the information for the entire training process) \n",
    "    \"\"\"\n",
    "    # YOUR CODE STARTS HERE\n",
    "    input_img = tf.keras.Input(shape=input_shape)\n",
    "    Z1 = tf.keras.layers.Conv2D(filters = 8 , kernel_size= (4,4), strides = (1,1), padding='same')(input_img)\n",
    "    A1 = tf.keras.layers.ReLU()(Z1)\n",
    "    P1 = tf.keras.layers.MaxPool2D(pool_size=(8,8), strides=(8, 8), padding='same')(A1)\n",
    "    Z2 = tf.keras.layers.Conv2D(filters = 16 , kernel_size= (2,2), strides = (1,1), padding='same')(P1)\n",
    "    A2 = tf.keras.layers.ReLU()(Z2)\n",
    "    P2 = tf.keras.layers.MaxPool2D(pool_size=(4,4), strides=(4, 4), padding='same')(A2)\n",
    "    F = tf.keras.layers.Flatten()(P2)\n",
    "    outputs = tf.keras.layers.Dense(units=6, activation='softmax')(F)\n",
    "    \n",
    "    # YOUR CODE ENDS HERE\n",
    "    model = tf.keras.Model(inputs=input_img, outputs=outputs)\n",
    "    \n",
    "    return model"
   ]
  },
  {
   "cell_type": "code",
   "execution_count": 44,
   "metadata": {
    "deletable": false,
    "editable": false,
    "nbgrader": {
     "cell_type": "code",
     "checksum": "483d626949930a0b0ef20997e7c6ba72",
     "grade": true,
     "grade_id": "cell-45d22e92042174c9",
     "locked": true,
     "points": 10,
     "schema_version": 3,
     "solution": false,
     "task": false
    }
   },
   "outputs": [
    {
     "name": "stdout",
     "output_type": "stream",
     "text": [
      "Model: \"functional_1\"\n",
      "_________________________________________________________________\n",
      "Layer (type)                 Output Shape              Param #   \n",
      "=================================================================\n",
      "input_9 (InputLayer)         [(None, 64, 64, 3)]       0         \n",
      "_________________________________________________________________\n",
      "conv2d_13 (Conv2D)           (None, 64, 64, 8)         392       \n",
      "_________________________________________________________________\n",
      "re_lu_6 (ReLU)               (None, 64, 64, 8)         0         \n",
      "_________________________________________________________________\n",
      "max_pooling2d_4 (MaxPooling2 (None, 8, 8, 8)           0         \n",
      "_________________________________________________________________\n",
      "conv2d_14 (Conv2D)           (None, 8, 8, 16)          528       \n",
      "_________________________________________________________________\n",
      "re_lu_7 (ReLU)               (None, 8, 8, 16)          0         \n",
      "_________________________________________________________________\n",
      "max_pooling2d_5 (MaxPooling2 (None, 2, 2, 16)          0         \n",
      "_________________________________________________________________\n",
      "flatten_2 (Flatten)          (None, 64)                0         \n",
      "_________________________________________________________________\n",
      "dense_1 (Dense)              (None, 6)                 390       \n",
      "=================================================================\n",
      "Total params: 1,310\n",
      "Trainable params: 1,310\n",
      "Non-trainable params: 0\n",
      "_________________________________________________________________\n",
      "\u001b[32mAll tests passed!\u001b[0m\n"
     ]
    }
   ],
   "source": [
    "conv_model = convolutional_model((64, 64, 3))\n",
    "conv_model.compile(optimizer='adam',\n",
    "                  loss='categorical_crossentropy',\n",
    "                  metrics=['accuracy'])\n",
    "conv_model.summary()\n",
    "    \n",
    "output = [['InputLayer', [(None, 64, 64, 3)], 0],\n",
    "        ['Conv2D', (None, 64, 64, 8), 392, 'same', 'linear', 'GlorotUniform'],\n",
    "        ['ReLU', (None, 64, 64, 8), 0],\n",
    "        ['MaxPooling2D', (None, 8, 8, 8), 0, (8, 8), (8, 8), 'same'],\n",
    "        ['Conv2D', (None, 8, 8, 16), 528, 'same', 'linear', 'GlorotUniform'],\n",
    "        ['ReLU', (None, 8, 8, 16), 0],\n",
    "        ['MaxPooling2D', (None, 2, 2, 16), 0, (4, 4), (4, 4), 'same'],\n",
    "        ['Flatten', (None, 64), 0],\n",
    "        ['Dense', (None, 6), 390, 'softmax']]\n",
    "    \n",
    "comparator(summary(conv_model), output)"
   ]
  },
  {
   "cell_type": "markdown",
   "metadata": {},
   "source": [
    "Both the Sequential and Functional APIs return a TF Keras model object. The only difference is how inputs are handled inside the object model! "
   ]
  },
  {
   "cell_type": "markdown",
   "metadata": {},
   "source": [
    "<a name='4-4'></a>\n",
    "### 4.4 - Train the Model"
   ]
  },
  {
   "cell_type": "code",
   "execution_count": 45,
   "metadata": {},
   "outputs": [
    {
     "name": "stdout",
     "output_type": "stream",
     "text": [
      "Epoch 1/100\n",
      "17/17 [==============================] - 2s 107ms/step - loss: 1.8131 - accuracy: 0.1778 - val_loss: 1.7929 - val_accuracy: 0.1750\n",
      "Epoch 2/100\n",
      "17/17 [==============================] - 2s 106ms/step - loss: 1.7910 - accuracy: 0.1843 - val_loss: 1.7897 - val_accuracy: 0.1750\n",
      "Epoch 3/100\n",
      "17/17 [==============================] - 2s 106ms/step - loss: 1.7890 - accuracy: 0.1907 - val_loss: 1.7886 - val_accuracy: 0.2250\n",
      "Epoch 4/100\n",
      "17/17 [==============================] - 2s 111ms/step - loss: 1.7875 - accuracy: 0.2269 - val_loss: 1.7878 - val_accuracy: 0.2417\n",
      "Epoch 5/100\n",
      "17/17 [==============================] - 2s 106ms/step - loss: 1.7858 - accuracy: 0.2185 - val_loss: 1.7862 - val_accuracy: 0.1833\n",
      "Epoch 6/100\n",
      "17/17 [==============================] - 2s 106ms/step - loss: 1.7839 - accuracy: 0.2250 - val_loss: 1.7845 - val_accuracy: 0.1750\n",
      "Epoch 7/100\n",
      "17/17 [==============================] - 2s 106ms/step - loss: 1.7813 - accuracy: 0.2343 - val_loss: 1.7822 - val_accuracy: 0.1750\n",
      "Epoch 8/100\n",
      "17/17 [==============================] - 2s 111ms/step - loss: 1.7783 - accuracy: 0.2407 - val_loss: 1.7795 - val_accuracy: 0.2083\n",
      "Epoch 9/100\n",
      "17/17 [==============================] - 2s 111ms/step - loss: 1.7737 - accuracy: 0.2537 - val_loss: 1.7765 - val_accuracy: 0.3083\n",
      "Epoch 10/100\n",
      "17/17 [==============================] - 2s 111ms/step - loss: 1.7676 - accuracy: 0.2731 - val_loss: 1.7723 - val_accuracy: 0.2500\n",
      "Epoch 11/100\n",
      "17/17 [==============================] - 2s 106ms/step - loss: 1.7561 - accuracy: 0.2778 - val_loss: 1.7606 - val_accuracy: 0.2500\n",
      "Epoch 12/100\n",
      "17/17 [==============================] - 2s 106ms/step - loss: 1.7387 - accuracy: 0.2824 - val_loss: 1.7469 - val_accuracy: 0.2917\n",
      "Epoch 13/100\n",
      "17/17 [==============================] - 2s 106ms/step - loss: 1.7181 - accuracy: 0.3148 - val_loss: 1.7290 - val_accuracy: 0.3417\n",
      "Epoch 14/100\n",
      "17/17 [==============================] - 2s 106ms/step - loss: 1.6920 - accuracy: 0.3481 - val_loss: 1.7088 - val_accuracy: 0.3417\n",
      "Epoch 15/100\n",
      "17/17 [==============================] - 2s 101ms/step - loss: 1.6619 - accuracy: 0.3741 - val_loss: 1.6841 - val_accuracy: 0.3583\n",
      "Epoch 16/100\n",
      "17/17 [==============================] - 2s 106ms/step - loss: 1.6279 - accuracy: 0.3991 - val_loss: 1.6541 - val_accuracy: 0.4083\n",
      "Epoch 17/100\n",
      "17/17 [==============================] - 2s 107ms/step - loss: 1.5905 - accuracy: 0.4185 - val_loss: 1.6236 - val_accuracy: 0.4083\n",
      "Epoch 18/100\n",
      "17/17 [==============================] - 2s 106ms/step - loss: 1.5513 - accuracy: 0.4380 - val_loss: 1.5895 - val_accuracy: 0.4167\n",
      "Epoch 19/100\n",
      "17/17 [==============================] - 2s 106ms/step - loss: 1.5104 - accuracy: 0.4528 - val_loss: 1.5499 - val_accuracy: 0.4083\n",
      "Epoch 20/100\n",
      "17/17 [==============================] - 2s 106ms/step - loss: 1.4675 - accuracy: 0.4787 - val_loss: 1.5081 - val_accuracy: 0.4083\n",
      "Epoch 21/100\n",
      "17/17 [==============================] - 2s 107ms/step - loss: 1.4242 - accuracy: 0.4917 - val_loss: 1.4635 - val_accuracy: 0.4167\n",
      "Epoch 22/100\n",
      "17/17 [==============================] - 2s 106ms/step - loss: 1.3794 - accuracy: 0.5065 - val_loss: 1.4193 - val_accuracy: 0.4417\n",
      "Epoch 23/100\n",
      "17/17 [==============================] - 2s 106ms/step - loss: 1.3348 - accuracy: 0.5278 - val_loss: 1.3728 - val_accuracy: 0.4667\n",
      "Epoch 24/100\n",
      "17/17 [==============================] - 2s 107ms/step - loss: 1.2906 - accuracy: 0.5444 - val_loss: 1.3278 - val_accuracy: 0.4833\n",
      "Epoch 25/100\n",
      "17/17 [==============================] - 2s 106ms/step - loss: 1.2476 - accuracy: 0.5611 - val_loss: 1.2818 - val_accuracy: 0.5083\n",
      "Epoch 26/100\n",
      "17/17 [==============================] - 2s 106ms/step - loss: 1.2063 - accuracy: 0.5759 - val_loss: 1.2399 - val_accuracy: 0.5417\n",
      "Epoch 27/100\n",
      "17/17 [==============================] - 2s 101ms/step - loss: 1.1683 - accuracy: 0.5861 - val_loss: 1.2005 - val_accuracy: 0.5500\n",
      "Epoch 28/100\n",
      "17/17 [==============================] - 2s 106ms/step - loss: 1.1331 - accuracy: 0.6009 - val_loss: 1.1645 - val_accuracy: 0.5583\n",
      "Epoch 29/100\n",
      "17/17 [==============================] - 2s 106ms/step - loss: 1.1002 - accuracy: 0.6139 - val_loss: 1.1309 - val_accuracy: 0.5583\n",
      "Epoch 30/100\n",
      "17/17 [==============================] - 2s 107ms/step - loss: 1.0702 - accuracy: 0.6222 - val_loss: 1.1008 - val_accuracy: 0.5833\n",
      "Epoch 31/100\n",
      "17/17 [==============================] - 2s 106ms/step - loss: 1.0425 - accuracy: 0.6241 - val_loss: 1.0705 - val_accuracy: 0.5917\n",
      "Epoch 32/100\n",
      "17/17 [==============================] - 2s 106ms/step - loss: 1.0176 - accuracy: 0.6315 - val_loss: 1.0436 - val_accuracy: 0.5917\n",
      "Epoch 33/100\n",
      "17/17 [==============================] - 2s 106ms/step - loss: 0.9936 - accuracy: 0.6370 - val_loss: 1.0174 - val_accuracy: 0.6083\n",
      "Epoch 34/100\n",
      "17/17 [==============================] - 2s 106ms/step - loss: 0.9721 - accuracy: 0.6519 - val_loss: 0.9959 - val_accuracy: 0.6417\n",
      "Epoch 35/100\n",
      "17/17 [==============================] - 2s 106ms/step - loss: 0.9524 - accuracy: 0.6602 - val_loss: 0.9761 - val_accuracy: 0.6417\n",
      "Epoch 36/100\n",
      "17/17 [==============================] - 2s 106ms/step - loss: 0.9324 - accuracy: 0.6648 - val_loss: 0.9570 - val_accuracy: 0.6500\n",
      "Epoch 37/100\n",
      "17/17 [==============================] - 2s 106ms/step - loss: 0.9139 - accuracy: 0.6713 - val_loss: 0.9401 - val_accuracy: 0.6667\n",
      "Epoch 38/100\n",
      "17/17 [==============================] - 2s 112ms/step - loss: 0.8973 - accuracy: 0.6778 - val_loss: 0.9222 - val_accuracy: 0.6750\n",
      "Epoch 39/100\n",
      "17/17 [==============================] - 2s 107ms/step - loss: 0.8810 - accuracy: 0.6880 - val_loss: 0.9066 - val_accuracy: 0.6750\n",
      "Epoch 40/100\n",
      "17/17 [==============================] - 2s 106ms/step - loss: 0.8666 - accuracy: 0.6944 - val_loss: 0.8913 - val_accuracy: 0.6750\n",
      "Epoch 41/100\n",
      "17/17 [==============================] - 2s 106ms/step - loss: 0.8525 - accuracy: 0.6981 - val_loss: 0.8769 - val_accuracy: 0.6833\n",
      "Epoch 42/100\n",
      "17/17 [==============================] - 2s 106ms/step - loss: 0.8385 - accuracy: 0.7046 - val_loss: 0.8620 - val_accuracy: 0.7000\n",
      "Epoch 43/100\n",
      "17/17 [==============================] - 2s 106ms/step - loss: 0.8262 - accuracy: 0.7083 - val_loss: 0.8486 - val_accuracy: 0.7000\n",
      "Epoch 44/100\n",
      "17/17 [==============================] - 2s 106ms/step - loss: 0.8136 - accuracy: 0.7148 - val_loss: 0.8351 - val_accuracy: 0.7083\n",
      "Epoch 45/100\n",
      "17/17 [==============================] - 2s 111ms/step - loss: 0.8021 - accuracy: 0.7204 - val_loss: 0.8229 - val_accuracy: 0.7167\n",
      "Epoch 46/100\n",
      "17/17 [==============================] - 2s 107ms/step - loss: 0.7901 - accuracy: 0.7296 - val_loss: 0.8098 - val_accuracy: 0.7250\n",
      "Epoch 47/100\n",
      "17/17 [==============================] - 2s 106ms/step - loss: 0.7795 - accuracy: 0.7315 - val_loss: 0.7990 - val_accuracy: 0.7250\n",
      "Epoch 48/100\n",
      "17/17 [==============================] - 2s 107ms/step - loss: 0.7686 - accuracy: 0.7343 - val_loss: 0.7871 - val_accuracy: 0.7250\n",
      "Epoch 49/100\n",
      "17/17 [==============================] - 2s 106ms/step - loss: 0.7587 - accuracy: 0.7398 - val_loss: 0.7767 - val_accuracy: 0.7250\n",
      "Epoch 50/100\n",
      "17/17 [==============================] - 2s 106ms/step - loss: 0.7484 - accuracy: 0.7463 - val_loss: 0.7668 - val_accuracy: 0.7250\n",
      "Epoch 51/100\n",
      "17/17 [==============================] - 2s 111ms/step - loss: 0.7390 - accuracy: 0.7491 - val_loss: 0.7576 - val_accuracy: 0.7333\n",
      "Epoch 52/100\n",
      "17/17 [==============================] - 2s 106ms/step - loss: 0.7291 - accuracy: 0.7546 - val_loss: 0.7495 - val_accuracy: 0.7333\n",
      "Epoch 53/100\n",
      "17/17 [==============================] - 2s 106ms/step - loss: 0.7193 - accuracy: 0.7593 - val_loss: 0.7407 - val_accuracy: 0.7333\n",
      "Epoch 54/100\n",
      "17/17 [==============================] - 2s 106ms/step - loss: 0.7097 - accuracy: 0.7602 - val_loss: 0.7330 - val_accuracy: 0.7333\n",
      "Epoch 55/100\n",
      "17/17 [==============================] - 2s 106ms/step - loss: 0.6998 - accuracy: 0.7667 - val_loss: 0.7229 - val_accuracy: 0.7333\n",
      "Epoch 56/100\n",
      "17/17 [==============================] - 2s 106ms/step - loss: 0.6911 - accuracy: 0.7676 - val_loss: 0.7174 - val_accuracy: 0.7333\n",
      "Epoch 57/100\n",
      "17/17 [==============================] - 2s 106ms/step - loss: 0.6818 - accuracy: 0.7713 - val_loss: 0.7081 - val_accuracy: 0.7417\n",
      "Epoch 58/100\n",
      "17/17 [==============================] - 2s 106ms/step - loss: 0.6735 - accuracy: 0.7741 - val_loss: 0.7020 - val_accuracy: 0.7417\n",
      "Epoch 59/100\n",
      "17/17 [==============================] - 2s 106ms/step - loss: 0.6652 - accuracy: 0.7731 - val_loss: 0.6930 - val_accuracy: 0.7333\n",
      "Epoch 60/100\n",
      "17/17 [==============================] - 2s 106ms/step - loss: 0.6568 - accuracy: 0.7806 - val_loss: 0.6860 - val_accuracy: 0.7417\n",
      "Epoch 61/100\n",
      "17/17 [==============================] - 2s 107ms/step - loss: 0.6498 - accuracy: 0.7759 - val_loss: 0.6774 - val_accuracy: 0.7500\n",
      "Epoch 62/100\n",
      "17/17 [==============================] - 2s 106ms/step - loss: 0.6400 - accuracy: 0.7787 - val_loss: 0.6696 - val_accuracy: 0.7500\n",
      "Epoch 63/100\n",
      "17/17 [==============================] - 2s 106ms/step - loss: 0.6335 - accuracy: 0.7833 - val_loss: 0.6654 - val_accuracy: 0.7583\n",
      "Epoch 64/100\n",
      "17/17 [==============================] - 2s 106ms/step - loss: 0.6250 - accuracy: 0.7907 - val_loss: 0.6574 - val_accuracy: 0.7583\n",
      "Epoch 65/100\n",
      "17/17 [==============================] - 2s 106ms/step - loss: 0.6177 - accuracy: 0.7926 - val_loss: 0.6523 - val_accuracy: 0.7583\n",
      "Epoch 66/100\n",
      "17/17 [==============================] - 2s 101ms/step - loss: 0.6108 - accuracy: 0.7944 - val_loss: 0.6463 - val_accuracy: 0.7500\n",
      "Epoch 67/100\n",
      "17/17 [==============================] - 2s 107ms/step - loss: 0.6035 - accuracy: 0.7972 - val_loss: 0.6426 - val_accuracy: 0.7500\n",
      "Epoch 68/100\n",
      "17/17 [==============================] - 2s 106ms/step - loss: 0.5970 - accuracy: 0.8000 - val_loss: 0.6368 - val_accuracy: 0.7500\n",
      "Epoch 69/100\n",
      "17/17 [==============================] - 2s 106ms/step - loss: 0.5897 - accuracy: 0.8019 - val_loss: 0.6319 - val_accuracy: 0.7583\n",
      "Epoch 70/100\n",
      "17/17 [==============================] - 2s 112ms/step - loss: 0.5832 - accuracy: 0.8028 - val_loss: 0.6270 - val_accuracy: 0.7750\n",
      "Epoch 71/100\n",
      "17/17 [==============================] - 2s 106ms/step - loss: 0.5766 - accuracy: 0.8065 - val_loss: 0.6226 - val_accuracy: 0.7833\n",
      "Epoch 72/100\n",
      "17/17 [==============================] - 2s 106ms/step - loss: 0.5703 - accuracy: 0.8074 - val_loss: 0.6181 - val_accuracy: 0.7833\n",
      "Epoch 73/100\n",
      "17/17 [==============================] - 2s 111ms/step - loss: 0.5639 - accuracy: 0.8139 - val_loss: 0.6131 - val_accuracy: 0.7833\n",
      "Epoch 74/100\n",
      "17/17 [==============================] - 2s 106ms/step - loss: 0.5577 - accuracy: 0.8148 - val_loss: 0.6093 - val_accuracy: 0.7917\n",
      "Epoch 75/100\n",
      "17/17 [==============================] - 2s 111ms/step - loss: 0.5519 - accuracy: 0.8167 - val_loss: 0.6052 - val_accuracy: 0.7917\n",
      "Epoch 76/100\n",
      "17/17 [==============================] - 2s 106ms/step - loss: 0.5459 - accuracy: 0.8176 - val_loss: 0.5998 - val_accuracy: 0.7917\n",
      "Epoch 77/100\n",
      "17/17 [==============================] - 2s 106ms/step - loss: 0.5401 - accuracy: 0.8213 - val_loss: 0.5952 - val_accuracy: 0.7917\n",
      "Epoch 78/100\n",
      "17/17 [==============================] - 2s 106ms/step - loss: 0.5344 - accuracy: 0.8269 - val_loss: 0.5915 - val_accuracy: 0.7917\n",
      "Epoch 79/100\n",
      "17/17 [==============================] - 2s 111ms/step - loss: 0.5292 - accuracy: 0.8315 - val_loss: 0.5861 - val_accuracy: 0.7917\n",
      "Epoch 80/100\n",
      "17/17 [==============================] - 2s 107ms/step - loss: 0.5237 - accuracy: 0.8324 - val_loss: 0.5830 - val_accuracy: 0.7917\n",
      "Epoch 81/100\n",
      "17/17 [==============================] - 2s 106ms/step - loss: 0.5188 - accuracy: 0.8315 - val_loss: 0.5763 - val_accuracy: 0.7917\n",
      "Epoch 82/100\n",
      "17/17 [==============================] - 2s 106ms/step - loss: 0.5137 - accuracy: 0.8343 - val_loss: 0.5777 - val_accuracy: 0.8000\n",
      "Epoch 83/100\n",
      "17/17 [==============================] - 2s 107ms/step - loss: 0.5087 - accuracy: 0.8343 - val_loss: 0.5709 - val_accuracy: 0.7917\n",
      "Epoch 84/100\n",
      "17/17 [==============================] - 2s 106ms/step - loss: 0.5038 - accuracy: 0.8361 - val_loss: 0.5701 - val_accuracy: 0.8000\n",
      "Epoch 85/100\n",
      "17/17 [==============================] - 2s 111ms/step - loss: 0.4989 - accuracy: 0.8407 - val_loss: 0.5663 - val_accuracy: 0.8000\n",
      "Epoch 86/100\n",
      "17/17 [==============================] - 2s 106ms/step - loss: 0.4945 - accuracy: 0.8407 - val_loss: 0.5633 - val_accuracy: 0.8000\n",
      "Epoch 87/100\n",
      "17/17 [==============================] - 2s 112ms/step - loss: 0.4897 - accuracy: 0.8444 - val_loss: 0.5609 - val_accuracy: 0.8000\n",
      "Epoch 88/100\n",
      "17/17 [==============================] - 2s 106ms/step - loss: 0.4853 - accuracy: 0.8444 - val_loss: 0.5583 - val_accuracy: 0.7917\n",
      "Epoch 89/100\n",
      "17/17 [==============================] - 2s 106ms/step - loss: 0.4808 - accuracy: 0.8463 - val_loss: 0.5550 - val_accuracy: 0.7917\n",
      "Epoch 90/100\n",
      "17/17 [==============================] - 2s 106ms/step - loss: 0.4765 - accuracy: 0.8491 - val_loss: 0.5541 - val_accuracy: 0.7917\n",
      "Epoch 91/100\n",
      "17/17 [==============================] - 2s 106ms/step - loss: 0.4723 - accuracy: 0.8500 - val_loss: 0.5503 - val_accuracy: 0.7917\n",
      "Epoch 92/100\n",
      "17/17 [==============================] - 2s 106ms/step - loss: 0.4683 - accuracy: 0.8528 - val_loss: 0.5481 - val_accuracy: 0.7917\n",
      "Epoch 93/100\n",
      "17/17 [==============================] - 2s 111ms/step - loss: 0.4642 - accuracy: 0.8537 - val_loss: 0.5452 - val_accuracy: 0.8000\n",
      "Epoch 94/100\n",
      "17/17 [==============================] - 2s 106ms/step - loss: 0.4603 - accuracy: 0.8556 - val_loss: 0.5447 - val_accuracy: 0.8000\n",
      "Epoch 95/100\n",
      "17/17 [==============================] - 2s 106ms/step - loss: 0.4566 - accuracy: 0.8574 - val_loss: 0.5411 - val_accuracy: 0.8000\n",
      "Epoch 96/100\n",
      "17/17 [==============================] - 2s 111ms/step - loss: 0.4529 - accuracy: 0.8574 - val_loss: 0.5399 - val_accuracy: 0.7917\n",
      "Epoch 97/100\n",
      "17/17 [==============================] - 2s 106ms/step - loss: 0.4494 - accuracy: 0.8574 - val_loss: 0.5360 - val_accuracy: 0.7917\n",
      "Epoch 98/100\n",
      "17/17 [==============================] - 2s 111ms/step - loss: 0.4456 - accuracy: 0.8593 - val_loss: 0.5334 - val_accuracy: 0.7917\n",
      "Epoch 99/100\n",
      "17/17 [==============================] - 2s 106ms/step - loss: 0.4420 - accuracy: 0.8602 - val_loss: 0.5305 - val_accuracy: 0.7917\n",
      "Epoch 100/100\n",
      "17/17 [==============================] - 2s 106ms/step - loss: 0.4385 - accuracy: 0.8611 - val_loss: 0.5289 - val_accuracy: 0.7917\n"
     ]
    }
   ],
   "source": [
    "train_dataset = tf.data.Dataset.from_tensor_slices((X_train, Y_train)).batch(64)\n",
    "test_dataset = tf.data.Dataset.from_tensor_slices((X_test, Y_test)).batch(64)\n",
    "history = conv_model.fit(train_dataset, epochs=100, validation_data=test_dataset)"
   ]
  },
  {
   "cell_type": "markdown",
   "metadata": {},
   "source": [
    "<a name='5'></a>\n",
    "## 5 - History Object \n",
    "\n",
    "The history object is an output of the `.fit()` operation, and provides a record of all the loss and metric values in memory. It's stored as a dictionary that you can retrieve at `history.history`: "
   ]
  },
  {
   "cell_type": "code",
   "execution_count": 46,
   "metadata": {},
   "outputs": [
    {
     "data": {
      "text/plain": [
       "{'loss': [1.8130829334259033,\n",
       "  1.7909659147262573,\n",
       "  1.7890102863311768,\n",
       "  1.787459135055542,\n",
       "  1.7857850790023804,\n",
       "  1.783864140510559,\n",
       "  1.7813228368759155,\n",
       "  1.7782903909683228,\n",
       "  1.7737418413162231,\n",
       "  1.7675575017929077,\n",
       "  1.7561451196670532,\n",
       "  1.7386842966079712,\n",
       "  1.7180694341659546,\n",
       "  1.6919631958007812,\n",
       "  1.661906361579895,\n",
       "  1.6279155015945435,\n",
       "  1.5904977321624756,\n",
       "  1.5513406991958618,\n",
       "  1.5104329586029053,\n",
       "  1.4675039052963257,\n",
       "  1.4242033958435059,\n",
       "  1.3794020414352417,\n",
       "  1.3348180055618286,\n",
       "  1.2906479835510254,\n",
       "  1.2475988864898682,\n",
       "  1.2063196897506714,\n",
       "  1.1683357954025269,\n",
       "  1.133068323135376,\n",
       "  1.1001663208007812,\n",
       "  1.0701531171798706,\n",
       "  1.042474627494812,\n",
       "  1.0175637006759644,\n",
       "  0.9935517311096191,\n",
       "  0.9720969796180725,\n",
       "  0.9523506164550781,\n",
       "  0.9324185848236084,\n",
       "  0.9138693809509277,\n",
       "  0.8973164558410645,\n",
       "  0.8810096979141235,\n",
       "  0.8665962219238281,\n",
       "  0.8524765968322754,\n",
       "  0.8385030627250671,\n",
       "  0.8261731863021851,\n",
       "  0.8135760426521301,\n",
       "  0.8021025657653809,\n",
       "  0.7901291251182556,\n",
       "  0.779524028301239,\n",
       "  0.7686138153076172,\n",
       "  0.7586979866027832,\n",
       "  0.7483974099159241,\n",
       "  0.7390119433403015,\n",
       "  0.7291421890258789,\n",
       "  0.7192736268043518,\n",
       "  0.7096549272537231,\n",
       "  0.6998006701469421,\n",
       "  0.6910885572433472,\n",
       "  0.6818119883537292,\n",
       "  0.6734846234321594,\n",
       "  0.6651812195777893,\n",
       "  0.6567667126655579,\n",
       "  0.6498385667800903,\n",
       "  0.6400023102760315,\n",
       "  0.6334916353225708,\n",
       "  0.6250400543212891,\n",
       "  0.6177310347557068,\n",
       "  0.6108109354972839,\n",
       "  0.6034913063049316,\n",
       "  0.5970297455787659,\n",
       "  0.5897497534751892,\n",
       "  0.5832162499427795,\n",
       "  0.5765712857246399,\n",
       "  0.5703467130661011,\n",
       "  0.563893735408783,\n",
       "  0.5576798319816589,\n",
       "  0.5518794059753418,\n",
       "  0.5458787679672241,\n",
       "  0.5401037335395813,\n",
       "  0.5344362854957581,\n",
       "  0.5291827917098999,\n",
       "  0.5237170457839966,\n",
       "  0.5187932252883911,\n",
       "  0.5136517286300659,\n",
       "  0.5087474584579468,\n",
       "  0.5037603974342346,\n",
       "  0.4988937973976135,\n",
       "  0.4945022463798523,\n",
       "  0.48967498540878296,\n",
       "  0.48526737093925476,\n",
       "  0.4807833731174469,\n",
       "  0.4765254855155945,\n",
       "  0.47228550910949707,\n",
       "  0.4683067500591278,\n",
       "  0.4642065763473511,\n",
       "  0.46027952432632446,\n",
       "  0.45663759112358093,\n",
       "  0.45288658142089844,\n",
       "  0.4494189918041229,\n",
       "  0.44558820128440857,\n",
       "  0.4420197606086731,\n",
       "  0.4385101795196533],\n",
       " 'accuracy': [0.17777778208255768,\n",
       "  0.18425926566123962,\n",
       "  0.19074073433876038,\n",
       "  0.22685185074806213,\n",
       "  0.21851852536201477,\n",
       "  0.22499999403953552,\n",
       "  0.23425926268100739,\n",
       "  0.24074074625968933,\n",
       "  0.2537037134170532,\n",
       "  0.27314814925193787,\n",
       "  0.2777777910232544,\n",
       "  0.28240740299224854,\n",
       "  0.31481480598449707,\n",
       "  0.3481481373310089,\n",
       "  0.3740740716457367,\n",
       "  0.39907407760620117,\n",
       "  0.4185185134410858,\n",
       "  0.43796294927597046,\n",
       "  0.45277777314186096,\n",
       "  0.47870370745658875,\n",
       "  0.49166667461395264,\n",
       "  0.5064814686775208,\n",
       "  0.5277777910232544,\n",
       "  0.5444444417953491,\n",
       "  0.5611110925674438,\n",
       "  0.5759259462356567,\n",
       "  0.5861111283302307,\n",
       "  0.6009259223937988,\n",
       "  0.6138888597488403,\n",
       "  0.6222222447395325,\n",
       "  0.6240741014480591,\n",
       "  0.6314814686775208,\n",
       "  0.6370370388031006,\n",
       "  0.6518518328666687,\n",
       "  0.6601851582527161,\n",
       "  0.664814829826355,\n",
       "  0.6712962985038757,\n",
       "  0.6777777671813965,\n",
       "  0.6879629492759705,\n",
       "  0.6944444179534912,\n",
       "  0.6981481313705444,\n",
       "  0.7046296000480652,\n",
       "  0.7083333134651184,\n",
       "  0.7148148417472839,\n",
       "  0.720370352268219,\n",
       "  0.729629635810852,\n",
       "  0.7314814925193787,\n",
       "  0.7342592477798462,\n",
       "  0.739814817905426,\n",
       "  0.7462962865829468,\n",
       "  0.7490741014480591,\n",
       "  0.7546296119689941,\n",
       "  0.7592592835426331,\n",
       "  0.760185182094574,\n",
       "  0.7666666507720947,\n",
       "  0.7675926089286804,\n",
       "  0.7712963223457336,\n",
       "  0.7740740776062012,\n",
       "  0.7731481194496155,\n",
       "  0.7805555462837219,\n",
       "  0.7759259343147278,\n",
       "  0.7787036895751953,\n",
       "  0.7833333611488342,\n",
       "  0.7907407283782959,\n",
       "  0.7925925850868225,\n",
       "  0.7944444417953491,\n",
       "  0.7972221970558167,\n",
       "  0.800000011920929,\n",
       "  0.8018518686294556,\n",
       "  0.8027777671813965,\n",
       "  0.8064814805984497,\n",
       "  0.8074073791503906,\n",
       "  0.8138889074325562,\n",
       "  0.8148148059844971,\n",
       "  0.8166666626930237,\n",
       "  0.8175926208496094,\n",
       "  0.8212962746620178,\n",
       "  0.8268518447875977,\n",
       "  0.8314814567565918,\n",
       "  0.8324074149131775,\n",
       "  0.8314814567565918,\n",
       "  0.8342592716217041,\n",
       "  0.8342592716217041,\n",
       "  0.8361111283302307,\n",
       "  0.8407407402992249,\n",
       "  0.8407407402992249,\n",
       "  0.8444444537162781,\n",
       "  0.8444444537162781,\n",
       "  0.8462963104248047,\n",
       "  0.8490740656852722,\n",
       "  0.8500000238418579,\n",
       "  0.8527777791023254,\n",
       "  0.8537036776542664,\n",
       "  0.855555534362793,\n",
       "  0.8574073910713196,\n",
       "  0.8574073910713196,\n",
       "  0.8574073910713196,\n",
       "  0.8592592477798462,\n",
       "  0.8601852059364319,\n",
       "  0.8611111044883728],\n",
       " 'val_loss': [1.7928591966629028,\n",
       "  1.7896952629089355,\n",
       "  1.788633108139038,\n",
       "  1.7878241539001465,\n",
       "  1.786158800125122,\n",
       "  1.784534215927124,\n",
       "  1.782233715057373,\n",
       "  1.7795051336288452,\n",
       "  1.776487946510315,\n",
       "  1.7722669839859009,\n",
       "  1.7605881690979004,\n",
       "  1.746893048286438,\n",
       "  1.7289680242538452,\n",
       "  1.7088078260421753,\n",
       "  1.6840636730194092,\n",
       "  1.6541240215301514,\n",
       "  1.623552918434143,\n",
       "  1.5894984006881714,\n",
       "  1.549944519996643,\n",
       "  1.508091688156128,\n",
       "  1.4634991884231567,\n",
       "  1.419327974319458,\n",
       "  1.3728114366531372,\n",
       "  1.3277562856674194,\n",
       "  1.281844973564148,\n",
       "  1.2398760318756104,\n",
       "  1.2005093097686768,\n",
       "  1.1644980907440186,\n",
       "  1.1309367418289185,\n",
       "  1.1008251905441284,\n",
       "  1.070533037185669,\n",
       "  1.043577790260315,\n",
       "  1.0173554420471191,\n",
       "  0.99587082862854,\n",
       "  0.976128876209259,\n",
       "  0.9569938778877258,\n",
       "  0.9401309490203857,\n",
       "  0.9222033023834229,\n",
       "  0.906625509262085,\n",
       "  0.8913225531578064,\n",
       "  0.8769222497940063,\n",
       "  0.8620308041572571,\n",
       "  0.8486381769180298,\n",
       "  0.8351476192474365,\n",
       "  0.8228678107261658,\n",
       "  0.8098174929618835,\n",
       "  0.7989749908447266,\n",
       "  0.7871279120445251,\n",
       "  0.7767252326011658,\n",
       "  0.7667863965034485,\n",
       "  0.7576040625572205,\n",
       "  0.7495404481887817,\n",
       "  0.7407309412956238,\n",
       "  0.7330156564712524,\n",
       "  0.7229102253913879,\n",
       "  0.7174095511436462,\n",
       "  0.7081195712089539,\n",
       "  0.7019664645195007,\n",
       "  0.6930443048477173,\n",
       "  0.6860140562057495,\n",
       "  0.6774125695228577,\n",
       "  0.6696093082427979,\n",
       "  0.6654262542724609,\n",
       "  0.6573737263679504,\n",
       "  0.6523169875144958,\n",
       "  0.6462997198104858,\n",
       "  0.6426381468772888,\n",
       "  0.6367577910423279,\n",
       "  0.6318884491920471,\n",
       "  0.626981794834137,\n",
       "  0.6225662231445312,\n",
       "  0.6181339025497437,\n",
       "  0.6130963563919067,\n",
       "  0.6093102097511292,\n",
       "  0.6052185297012329,\n",
       "  0.599750816822052,\n",
       "  0.5952356457710266,\n",
       "  0.5915378332138062,\n",
       "  0.586089551448822,\n",
       "  0.5830028653144836,\n",
       "  0.5763480067253113,\n",
       "  0.5776700377464294,\n",
       "  0.5709221959114075,\n",
       "  0.5700611472129822,\n",
       "  0.5662767887115479,\n",
       "  0.563264787197113,\n",
       "  0.5609267354011536,\n",
       "  0.5582701563835144,\n",
       "  0.555030107498169,\n",
       "  0.5541476607322693,\n",
       "  0.5503126382827759,\n",
       "  0.5480940937995911,\n",
       "  0.5451711416244507,\n",
       "  0.5447190999984741,\n",
       "  0.541071891784668,\n",
       "  0.5398713946342468,\n",
       "  0.5359929800033569,\n",
       "  0.5333899259567261,\n",
       "  0.5304839015007019,\n",
       "  0.5289068222045898],\n",
       " 'val_accuracy': [0.17499999701976776,\n",
       "  0.17499999701976776,\n",
       "  0.22499999403953552,\n",
       "  0.24166665971279144,\n",
       "  0.18333333730697632,\n",
       "  0.17499999701976776,\n",
       "  0.17499999701976776,\n",
       "  0.2083333283662796,\n",
       "  0.3083333373069763,\n",
       "  0.25,\n",
       "  0.25,\n",
       "  0.2916666567325592,\n",
       "  0.34166666865348816,\n",
       "  0.34166666865348816,\n",
       "  0.3583333194255829,\n",
       "  0.40833333134651184,\n",
       "  0.40833333134651184,\n",
       "  0.4166666567325592,\n",
       "  0.40833333134651184,\n",
       "  0.40833333134651184,\n",
       "  0.4166666567325592,\n",
       "  0.4416666626930237,\n",
       "  0.46666666865348816,\n",
       "  0.4833333194255829,\n",
       "  0.5083333253860474,\n",
       "  0.5416666865348816,\n",
       "  0.550000011920929,\n",
       "  0.5583333373069763,\n",
       "  0.5583333373069763,\n",
       "  0.5833333134651184,\n",
       "  0.5916666388511658,\n",
       "  0.5916666388511658,\n",
       "  0.6083333492279053,\n",
       "  0.6416666507720947,\n",
       "  0.6416666507720947,\n",
       "  0.6499999761581421,\n",
       "  0.6666666865348816,\n",
       "  0.675000011920929,\n",
       "  0.675000011920929,\n",
       "  0.675000011920929,\n",
       "  0.6833333373069763,\n",
       "  0.699999988079071,\n",
       "  0.699999988079071,\n",
       "  0.7083333134651184,\n",
       "  0.7166666388511658,\n",
       "  0.7250000238418579,\n",
       "  0.7250000238418579,\n",
       "  0.7250000238418579,\n",
       "  0.7250000238418579,\n",
       "  0.7250000238418579,\n",
       "  0.7333333492279053,\n",
       "  0.7333333492279053,\n",
       "  0.7333333492279053,\n",
       "  0.7333333492279053,\n",
       "  0.7333333492279053,\n",
       "  0.7333333492279053,\n",
       "  0.7416666746139526,\n",
       "  0.7416666746139526,\n",
       "  0.7333333492279053,\n",
       "  0.7416666746139526,\n",
       "  0.75,\n",
       "  0.75,\n",
       "  0.7583333253860474,\n",
       "  0.7583333253860474,\n",
       "  0.7583333253860474,\n",
       "  0.75,\n",
       "  0.75,\n",
       "  0.75,\n",
       "  0.7583333253860474,\n",
       "  0.7749999761581421,\n",
       "  0.7833333611488342,\n",
       "  0.7833333611488342,\n",
       "  0.7833333611488342,\n",
       "  0.7916666865348816,\n",
       "  0.7916666865348816,\n",
       "  0.7916666865348816,\n",
       "  0.7916666865348816,\n",
       "  0.7916666865348816,\n",
       "  0.7916666865348816,\n",
       "  0.7916666865348816,\n",
       "  0.7916666865348816,\n",
       "  0.800000011920929,\n",
       "  0.7916666865348816,\n",
       "  0.800000011920929,\n",
       "  0.800000011920929,\n",
       "  0.800000011920929,\n",
       "  0.800000011920929,\n",
       "  0.7916666865348816,\n",
       "  0.7916666865348816,\n",
       "  0.7916666865348816,\n",
       "  0.7916666865348816,\n",
       "  0.7916666865348816,\n",
       "  0.800000011920929,\n",
       "  0.800000011920929,\n",
       "  0.800000011920929,\n",
       "  0.7916666865348816,\n",
       "  0.7916666865348816,\n",
       "  0.7916666865348816,\n",
       "  0.7916666865348816,\n",
       "  0.7916666865348816]}"
      ]
     },
     "execution_count": 46,
     "metadata": {},
     "output_type": "execute_result"
    }
   ],
   "source": [
    "history.history"
   ]
  },
  {
   "cell_type": "markdown",
   "metadata": {},
   "source": [
    "Now visualize the loss over time using `history.history`: "
   ]
  },
  {
   "cell_type": "code",
   "execution_count": 47,
   "metadata": {},
   "outputs": [
    {
     "data": {
      "text/plain": [
       "[Text(0, 0.5, 'Accuracy'), Text(0.5, 0, 'Epoch')]"
      ]
     },
     "execution_count": 47,
     "metadata": {},
     "output_type": "execute_result"
    },
    {
     "data": {
      "image/png": "[encoded data removed]",
      "text/plain": [
       "<Figure size 864x576 with 1 Axes>"
      ]
     },
     "metadata": {
      "needs_background": "light"
     },
     "output_type": "display_data"
    },
    {
     "data": {
      "image/png": "[encoded data removed]",
      "text/plain": [
       "<Figure size 864x576 with 1 Axes>"
      ]
     },
     "metadata": {
      "needs_background": "light"
     },
     "output_type": "display_data"
    }
   ],
   "source": [
    "# The history.history[\"loss\"] entry is a dictionary with as many values as epochs that the\n",
    "# model was trained on. \n",
    "df_loss_acc = pd.DataFrame(history.history)\n",
    "df_loss= df_loss_acc[['loss','val_loss']]\n",
    "df_loss.rename(columns={'loss':'train','val_loss':'validation'},inplace=True)\n",
    "df_acc= df_loss_acc[['accuracy','val_accuracy']]\n",
    "df_acc.rename(columns={'accuracy':'train','val_accuracy':'validation'},inplace=True)\n",
    "df_loss.plot(title='Model loss',figsize=(12,8)).set(xlabel='Epoch',ylabel='Loss')\n",
    "df_acc.plot(title='Model Accuracy',figsize=(12,8)).set(xlabel='Epoch',ylabel='Accuracy')"
   ]
  },
  {
   "cell_type": "markdown",
   "metadata": {},
   "source": [
    "**Congratulations**! You've finished the assignment and built two models: One that recognizes  smiles, and another that recognizes SIGN language with almost 80% accuracy on the test set. In addition to that, you now also understand the applications of two Keras APIs: Sequential and Functional. Nicely done! \n",
    "\n",
    "By now, you know a bit about how the Functional API works and may have glimpsed the possibilities. In your next assignment, you'll really get a feel for its power when you get the opportunity to build a very deep ConvNet, using ResNets! "
   ]
  },
  {
   "cell_type": "markdown",
   "metadata": {},
   "source": [
    "<a name='6'></a>\n",
    "## 6 - Bibliography\n",
    "\n",
    "You're always encouraged to read the official documentation. To that end, you can find the docs for the Sequential and Functional APIs here: \n",
    "\n",
    "https://www.tensorflow.org/guide/keras/sequential_model\n",
    "\n",
    "https://www.tensorflow.org/guide/keras/functional"
   ]
  }
 ],
 "metadata": {
  "coursera": {
   "course_slug": "convolutional-neural-networks",
   "graded_item_id": "bwbJV",
   "launcher_item_id": "0TkXB"
  },
  "kernelspec": {
   "display_name": "Python 3",
   "language": "python",
   "name": "python3"
  },
  "language_info": {
   "codemirror_mode": {
    "name": "ipython",
    "version": 3
   },
   "file_extension": ".py",
   "mimetype": "text/x-python",
   "name": "python",
   "nbconvert_exporter": "python",
   "pygments_lexer": "ipython3",
   "version": "3.7.6"
  }
 },
 "nbformat": 4,
 "nbformat_minor": 2
}
